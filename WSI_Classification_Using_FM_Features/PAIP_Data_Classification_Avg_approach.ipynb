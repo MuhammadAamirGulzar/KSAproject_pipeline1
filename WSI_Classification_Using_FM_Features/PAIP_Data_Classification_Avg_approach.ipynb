{
 "cells": [
  {
   "cell_type": "code",
   "execution_count": 1,
   "metadata": {},
   "outputs": [
    {
     "name": "stdout",
     "output_type": "stream",
     "text": [
      "cuda\n"
     ]
    }
   ],
   "source": [
    "import torch\n",
    "import torchvision\n",
    "from torch.utils.data import DataLoader\n",
    "import os\n",
    "from os.path import join as j_\n",
    "from PIL import Image\n",
    "import pandas as pd\n",
    "import numpy as np\n",
    "import time\n",
    "import random\n",
    "from torchvision import transforms\n",
    "from torch.utils.data import DataLoader, Dataset\n",
    "from torchvision.transforms import Lambda\n",
    "from PIL import Image\n",
    "Image.MAX_IMAGE_PIXELS = None\n",
    "# loading all packages here to start\n",
    "from eval_patch_features.logistic import test_saved_logistic_model\n",
    "from eval_patch_features.ann import test_saved_ann_model\n",
    "from eval_patch_features.knn import test_saved_knn_model\n",
    "from eval_patch_features.protonet import test_saved_protonet_model\n",
    "from eval_patch_features.metrics import get_eval_metrics, print_metrics\n",
    "device = torch.device(\"cuda\" if torch.cuda.is_available() else \"cpu\")\n",
    "print(device)"
   ]
  },
  {
   "cell_type": "markdown",
   "metadata": {},
   "source": [
    "### Configurations"
   ]
  },
  {
   "cell_type": "code",
   "execution_count": 2,
   "metadata": {},
   "outputs": [],
   "source": [
    "# configs\n",
    "from pathlib import Path\n",
    "BASE_DIR = Path(r\"E:\\Aamir Gulzar\\WSI_Classification_Using_FM_Features\\UNI_Average_Classifiers\")\n",
    "\n",
    "VECTOR_DIM = 1024  # size of input feature vector\n",
    "HIDDEN_DIM = 768   # size of ANN hidden layer\n",
    "BATCH_SIZE = 8\n",
    "FOLD = 3  # this fold values is only used to load the respective fold model\n",
    "K_FOLDS_PATH = r\"E:\\Aamir Gulzar\\dataset\\paip_data\\labels\\paip_47slides.csv\"\n",
    "DATA_PATH = r\"E:\\Aamir Gulzar\\dataset\\paip_data\\UNI_Features\"\n",
    "\n",
    "ANN_MODEL_PATH = BASE_DIR / f\"fold{FOLD}_trained_ann_model_{VECTOR_DIM}.pth\"\n",
    "LOGISTIC_MODEL_PATH = BASE_DIR / f\"fold{FOLD}_logistic_regression.pkl\"\n",
    "KNN_MODEL_PATH = BASE_DIR / f\"fold{FOLD}_knn_model.pkl\"\n",
    "PROTONET_MODEL_PATH = BASE_DIR / f\"fold{FOLD}_protonet_model.pkl\""
   ]
  },
  {
   "cell_type": "code",
   "execution_count": 3,
   "metadata": {},
   "outputs": [],
   "source": [
    "# data = r\"E:\\Aamir Gulzar\\dataset\\paip_data\\Baseline_FiveCrop_Features\"\n",
    "# data_save = r\"E:\\Aamir Gulzar\\dataset\\paip_data\\Baseline_Features\"\n",
    "# if not os.path.exists(data_save):\n",
    "#     os.makedirs(data_save, exist_ok=True)\n",
    "\n",
    "# # load the data\n",
    "# for wsi in os.listdir(data):\n",
    "#     wsi_data = []\n",
    "#     for patch in os.listdir(j_(data, wsi)):\n",
    "#         patch_data = torch.load(j_(data, wsi, patch))\n",
    "#         # check if the loaded feature vector is five crop then average it first then append to the wsi_data\n",
    "#         if patch_data.shape[0] > 1:\n",
    "#             patch_data = patch_data.mean(dim=0)\n",
    "#         wsi_data.append(patch_data)\n",
    "#     wsi_data = torch.stack(wsi_data).mean(dim=0)\n",
    "#     save_path = j_(data_save, wsi + \".pt\")\n",
    "#     torch.save(wsi_data, save_path)\n",
    "# print(\"done\")"
   ]
  },
  {
   "cell_type": "code",
   "execution_count": 4,
   "metadata": {},
   "outputs": [],
   "source": [
    "# import torch\n",
    "\n",
    "# # Define the path to the .pt file\n",
    "# file_path = r\"E:\\Aamir Gulzar\\dataset\\paip_data\\UNI_Features\\training_data_01_MSIH.pt\"\n",
    "\n",
    "# # Load the .pt file\n",
    "# try:\n",
    "#     data = torch.load(file_path)\n",
    "#     shape = torch.tensor(data).shape  # Get shape\n",
    "#     print(\"Shape of the data:\", shape)\n",
    "#     print(\"Values:\\n\", data)  # Print values\n",
    "# except Exception as e:\n",
    "#     print(\"Error loading file:\", e)"
   ]
  },
  {
   "cell_type": "markdown",
   "metadata": {},
   "source": [
    "### Data Loaders"
   ]
  },
  {
   "cell_type": "code",
   "execution_count": 5,
   "metadata": {},
   "outputs": [],
   "source": [
    "import os\n",
    "import torch\n",
    "from torch.utils.data import Dataset\n",
    "from typing import List\n",
    "\n",
    "class WSIDataset(Dataset):\n",
    "    def __init__(self, save_dir: str, fold_ids: List[str]):\n",
    "        self.data = []\n",
    "        self.save_dir = save_dir\n",
    "        self.fold_ids = fold_ids\n",
    "        self._load_data()\n",
    "\n",
    "    def _load_data(self):\n",
    "        for wsi_file in os.listdir(self.save_dir):\n",
    "            wsi_path = os.path.join(self.save_dir, wsi_file)\n",
    "            # Extract the WSI ID and truncate it to the first 12 characters\n",
    "            wsi_id = os.path.splitext(wsi_file)[0]   # Extract first 12 characters\n",
    "            if wsi_id not in self.fold_ids:\n",
    "                # print(f'skiping {wsi_file} becuase {wsi_id} not in list from path {wsi_path}')\n",
    "                continue  # Skip if the WSI is not in the current fold\n",
    "\n",
    "            if wsi_path.endswith('.pt'):\n",
    "                try:\n",
    "                    # Load WSI features\n",
    "                    wsi_features = torch.load(wsi_path)\n",
    "                    if wsi_features.is_cuda:\n",
    "                        wsi_features = wsi_features.cpu()\n",
    "                    # Average all feature vectors in the .pt file\n",
    "                    if wsi_features.dim() > 1:\n",
    "                        averaged_features = torch.mean(wsi_features, dim=0)\n",
    "                    else:\n",
    "                        averaged_features = wsi_features  # In case it is already a single vector\n",
    "\n",
    "                    # Determine label based on WSI file name\n",
    "                    label = 0 if '_nonMSI' in wsi_file else 1\n",
    "\n",
    "                    # Append the averaged features, label, and WSI ID\n",
    "                    self.data.append((averaged_features, label, wsi_id))\n",
    "                except Exception as e:\n",
    "                    print(f\"Error loading {wsi_path}: {e}\")\n",
    "\n",
    "    def __len__(self):\n",
    "        return len(self.data)\n",
    "\n",
    "    def __getitem__(self, idx):\n",
    "        features, label, wsi_id = self.data[idx]\n",
    "        return features, label, wsi_id"
   ]
  },
  {
   "cell_type": "markdown",
   "metadata": {},
   "source": [
    "### Evaluation Metrics"
   ]
  },
  {
   "cell_type": "code",
   "execution_count": 6,
   "metadata": {},
   "outputs": [],
   "source": [
    "def calculate_metric_averages_by_index(all_fold_results, metric_indices):\n",
    "    \"\"\"\n",
    "    Calculate the average of specified metrics over multiple folds.\n",
    "    Args:\n",
    "        all_fold_results (list of dicts): Results for each fold.\n",
    "        metric_indices (dict): Mapping of metric names to their indices.\n",
    "    Returns:\n",
    "        dict: Averages of the specified metrics across folds.\n",
    "    \"\"\"\n",
    "    # Initialize averages dictionary\n",
    "    averages = {metric: 0 for metric in metric_indices.keys()}\n",
    "    counts = {metric: 0 for metric in metric_indices.keys()}  # Keep track of valid metrics\n",
    "    num_folds = len(all_fold_results)\n",
    "\n",
    "    for result in all_fold_results:\n",
    "        # Iterate through metrics by their index\n",
    "        for metric, index in metric_indices.items():\n",
    "            try:\n",
    "                metric_name = list(result.keys())[index]  # Extract the metric name by index\n",
    "                if metric_name in result and isinstance(result[metric_name], (int, float)):  # Check if metric exists and is numeric\n",
    "                    averages[metric] += result[metric_name]\n",
    "                    counts[metric] += 1\n",
    "            except IndexError:\n",
    "                # Metric not present in this result due to model differences\n",
    "                continue\n",
    "            except Exception as e:\n",
    "                print(f\"Error processing metric '{metric}': {e}\")\n",
    "    # Compute average only for metrics with valid values\n",
    "    for metric in averages:\n",
    "        if counts[metric] > 0:\n",
    "            averages[metric] /= counts[metric]\n",
    "    return averages\n",
    "\n",
    "def print_metrics(metrics):\n",
    "    for key, value in metrics.items():\n",
    "        if isinstance(value, (int, float)):  # Check if the value is a number\n",
    "            print(f\"{key}: {value:.4f}\")  # Format numbers with 4 decimal places\n",
    "        # else:\n",
    "        #     print(f\"{key}: {value}\")  # For non-numeric values, just print them directly"
   ]
  },
  {
   "cell_type": "markdown",
   "metadata": {},
   "source": [
    "## Trainer Function"
   ]
  },
  {
   "cell_type": "code",
   "execution_count": 7,
   "metadata": {},
   "outputs": [],
   "source": [
    "def evaluate(test_loader, model_type='linear'):\n",
    "    all_test_feats, all_test_labels = [], []\n",
    "    \n",
    "    for features, label, wsi_id in test_loader:\n",
    "        all_test_feats.append(features)\n",
    "        all_test_labels.append(label)\n",
    "\n",
    "    # Convert lists to tensors\n",
    "    global test_feats, test_labels\n",
    "    test_feats = torch.cat(all_test_feats)\n",
    "    test_labels = torch.cat([labels.clone().detach() for labels in all_test_labels])\n",
    "    # Select the model based on the input argument\n",
    "    if model_type == 'ann':\n",
    "        eval_metrics, dump = test_saved_ann_model(\n",
    "            input_dim=VECTOR_DIM,\n",
    "            hidden_dim=HIDDEN_DIM,\n",
    "            test_feats=test_feats,\n",
    "            test_labels=test_labels,\n",
    "            model_path=ANN_MODEL_PATH\n",
    "        )\n",
    "    elif model_type == 'linear':\n",
    "        eval_metrics = test_saved_logistic_model(\n",
    "            test_feats=test_feats,\n",
    "            test_labels=test_labels,\n",
    "            model_path=LOGISTIC_MODEL_PATH\n",
    "        )\n",
    "    elif model_type == 'knn':\n",
    "        eval_metrics = test_saved_knn_model(\n",
    "            test_feats=test_feats,\n",
    "            test_labels=test_labels,\n",
    "            model_path=KNN_MODEL_PATH\n",
    "        )\n",
    "    elif model_type == 'protonet':\n",
    "        eval_metrics = test_saved_protonet_model(\n",
    "            test_feats=test_feats,\n",
    "            test_labels=test_labels,\n",
    "            model_path=PROTONET_MODEL_PATH\n",
    "        )\n",
    "    \n",
    "    else:\n",
    "        raise ValueError(f\"Unsupported model type: {model_type}\")\n",
    "    return eval_metrics"
   ]
  },
  {
   "cell_type": "markdown",
   "metadata": {},
   "source": [
    "### K-Folds"
   ]
  },
  {
   "cell_type": "markdown",
   "metadata": {},
   "source": [
    "### Main Runner Function"
   ]
  },
  {
   "cell_type": "code",
   "execution_count": 8,
   "metadata": {},
   "outputs": [
    {
     "name": "stdout",
     "output_type": "stream",
     "text": [
      "\n",
      "\n",
      " ********* Training with model: linear********* \n",
      "\n",
      "\n",
      "Confusion Matrix:\n",
      "[[35  0]\n",
      " [12  0]]\n",
      "lin_acc: 0.7447\n",
      "lin_bacc: 0.5000\n",
      "lin_macro_f1: 0.4268\n",
      "lin_weighted_f1: 0.6357\n",
      "lin_auroc: 0.9024\n",
      "\n",
      "\n",
      " ********* Training with model: ann********* \n",
      "\n",
      "\n",
      "Confusion Matrix:\n",
      "[[29  6]\n",
      " [ 2 10]]\n",
      "acc: 0.8298\n",
      "bacc: 0.8310\n",
      "macro_f1: 0.7965\n",
      "weighted_f1: 0.8368\n",
      "auroc: 0.9095\n",
      "\n",
      "\n",
      " ********* Training with model: knn********* \n",
      "\n",
      "\n",
      "Confusion Matrix:\n",
      "[[35  0]\n",
      " [11  1]]\n",
      "knn_acc: 0.7660\n",
      "knn_bacc: 0.5417\n",
      "knn_macro_f1: 0.5090\n",
      "knn_weighted_f1: 0.6828\n",
      "\n",
      "\n",
      " ********* Training with model: protonet********* \n",
      "\n",
      "\n",
      "Confusion Matrix:\n",
      "[[34  1]\n",
      " [ 9  3]]\n",
      "proto_acc: 0.7872\n",
      "proto_bacc: 0.6107\n",
      "proto_macro_f1: 0.6234\n",
      "proto_weighted_f1: 0.7450\n"
     ]
    },
    {
     "name": "stderr",
     "output_type": "stream",
     "text": [
      "e:\\Aamir Gulzar\\WSI_Classification_Using_FM_Features\\eval_patch_features\\protonet.py:76: UserWarning: To copy construct from a tensor, it is recommended to use sourceTensor.clone().detach() or sourceTensor.clone().detach().requires_grad_(True), rather than torch.tensor(sourceTensor).\n",
      "  prototypes = torch.tensor(prototypes)\n",
      "e:\\Aamir Gulzar\\WSI_Classification_Using_FM_Features\\eval_patch_features\\protonet.py:77: UserWarning: To copy construct from a tensor, it is recommended to use sourceTensor.clone().detach() or sourceTensor.clone().detach().requires_grad_(True), rather than torch.tensor(sourceTensor).\n",
      "  labels_proto = torch.tensor(labels_proto)\n"
     ]
    }
   ],
   "source": [
    "# Example usage:\n",
    "slides = pd.read_csv(K_FOLDS_PATH)\n",
    "slides = slides['Fold1'].dropna().values.tolist()\n",
    "# Define your folds\n",
    "# Run k-fold cross-validation with different models\n",
    "model_types = ['linear','ann','knn','protonet']\n",
    "metric_indices = {\n",
    "    'acc': 0,          # 'lin_acc' corresponds to index 0\n",
    "    'bacc': 1,         # 'lin_bacc' corresponds to index 1\n",
    "    'macro_f1': 2,        # 'lin_kappa' corresponds to index 2\n",
    "    'weighted_f1': 3,  # 'lin_weighted_f1' corresponds to index 3\n",
    "    'auroc': 5         # 'lin_auroc' corresponds to index 4\n",
    "}\n",
    "\n",
    "for model in model_types:\n",
    "    print(f\"\\n\\n ********* Training with model: {model}********* \\n\\n\")\n",
    "    test_dataset = WSIDataset(DATA_PATH, slides)\n",
    "    test_loader = DataLoader(test_dataset, batch_size=BATCH_SIZE, shuffle=False)\n",
    "    eval_metrics = evaluate(test_loader, model_type=model)\n",
    "    print_metrics(eval_metrics)"
   ]
  }
 ],
 "metadata": {
  "kernelspec": {
   "display_name": "tcga",
   "language": "python",
   "name": "python3"
  },
  "language_info": {
   "codemirror_mode": {
    "name": "ipython",
    "version": 3
   },
   "file_extension": ".py",
   "mimetype": "text/x-python",
   "name": "python",
   "nbconvert_exporter": "python",
   "pygments_lexer": "ipython3",
   "version": "3.12.3"
  }
 },
 "nbformat": 4,
 "nbformat_minor": 2
}
